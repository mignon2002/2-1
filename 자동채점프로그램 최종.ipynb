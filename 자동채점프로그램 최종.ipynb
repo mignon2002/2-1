{
 "cells": [
  {
   "cell_type": "code",
   "execution_count": 6,
   "metadata": {},
   "outputs": [
    {
     "name": "stdout",
     "output_type": "stream",
     "text": [
      "채점하시는 과목명을 입력해주세요 : 생명과학실험\n",
      "채점하시는 시험지의 파일명을 입력해주세요 : 2604김소현\n",
      "채점 결과 :  2604김소현.csv 의 생명과학실험.csv 과목의 총점은 82.0 점입니다\n",
      "확인 사항 : ['13.1', '20.1'] 번은 그림을 그리는 문제이므로 시험지를 확인해주세요\n",
      "틀린 문제 : ['1.2', '2.1', '3.1', '4.1', '4.4', '5.4', '6.1', '6.3.2', '7', '17.1', '18.2.3'] 번 입니다\n"
     ]
    }
   ],
   "source": [
   "import csv\n",
   "\n", 
   "while True:\n",
   "    try:\n",
   "        subject = str(input(\"채점하시는 과목명을 입력해주세요 : \")) + \".csv\"  # 생명과학실험\n",
   "        number = []\n",
   "        answer = []\n",
   "        score = []\n", # 채점에 필요한 리스트를 생성한다. 
   "        with open(subject) as f:\n",
   "            g = csv.reader(f)\n",
   "            for raw in g:\n",
   "                number.append(raw[0])\n", # 각 리스트에 csv 각 열에 해당하는 데이터를 저장한다.
   "                answer.append(raw[1])\n",
   "                score.append(raw[2])\n",
   "        break\n",
   "    except FileNotFoundError:\n",
   "        print(\"잘못된 과목명을 입력하셨습니다.\\n해당 과목명을 잘못 입력하셨거나 해당 과목 채점 파일이 존재하지 않습니다.\\n다시 한번 입력해주세요.\")\n",
   "\n",
   "while True:\n",
   "    try:\n",
   "        stpaper = str(input(\"채점하시는 시험지의 파일명을 입력해주세요 : \"))+\".csv\"  # 2604김소현, 2602 허민영\n",
   "        stanswer = []\n",
   "        with open(stpaper) as f:\n",
   "            g = csv.reader(f)\n",
   "            for raw in g:\n",
   "                stanswer.append(raw[1])\n", # 학생 데이터도 마찬가지로 csv 파일의 열 데이터를 리스트를 생성하여 저장한다
   "        break\n",
   "    except FileNotFoundError:\n",
   "        print(\"잘못된 시험지 파일명을 입력하셨습니다.\\n해당 파일명을 잘못 입력하셨거나 해당 학생 시험지 파일이 존재하지 않습니다.\\n다시 한번 입력해주세요.\n",
   "new = []\n",
   "for i in range(0, len(answer)):\n",
   "    n = answer[i].split('/')\n",
   "    new.append(n)\n",    # 각 문항의 키워드를 모두 묶어 리스트로 저장한다. 
   "\n",
   "점수 = 0\n",
   "오답 = []\n",
   "그림문제 = []\n",   # 채점에 필요한 리스트를 만든다. 
   "for j in range(0, len(stanswer)):\n",   # 모든 문항에 대해 채점하기 위해서 반복문을 쓴다
   "    txt = stanswer[j].upper()\n",   # 대소문자 구별 오류를 없애기 위함이다
   "    sc = float(score[j])\n",   # 배점이 소수인 경우
   "    cp = True\n",   # cp 값의 true or false 여부에 따라서 정답 여부를 처리한다. 따라서 초기 cp는 true값이다
   "    for i in range(len(new[j])):\n", # 각 문항의 모든 키워드에 대해 반복
   "        ans = new[j][i].upper()\n", # ans 라는 값을 지정한다
   "        if ans in txt:\n", # 이 키워드가 학생 답안 txt에 있다면
   "            cp = True\n", # cp는 여전히 트루이다
   "        if ans not in txt:\n", # 없다면
   "            cp = False\n", # 오답 처리를 해준다. 이때 키워드가 하나라도 없다면 오답이기 때문에 false를 해주고, 이후 브레이크를 해준다
   "            오답.append(number[j])\n", # 오답 문항을 알려주기 위해 오답 번호에 추가한다
   "            break\n",
   "        if str(ans) == '그림생략':\n", # 컴퓨터로 입력할 수 없는 그림 문제의 경우에는 따로 알려주기 위해 그림 문제 리스트에 추가한다
   "            n = number[j]\n",
   "            그림문제.append(n)\n",
   "    if cp:\n",
   "        점수 += sc\n", # 최종 점수 계산
   "\n",
   "print('채점 결과 : ', stpaper.split('.')[0], '의', subject.split('.')[0], '과목의 총점은', 점수, '점입니다')\n",
   "print('확인 사항 :', str(그림문제), '번은 그림을 그리는 문제이므로 시험지를 확인해주세요')\n",
   "print('틀린 문제 :', str(오답), '번 입니다')"   # 최종 결과 출력
   ]    
  },
  {
   "cell_type": "code",
   "execution_count": null,
   "metadata": {},
   "outputs": [],
   "source": []
  }
 ],
 "metadata": {
  "kernelspec": {
   "display_name": "Python 3",
   "language": "python",
   "name": "python3"
  },
  "language_info": {
   "codemirror_mode": {
    "name": "ipython",
    "version": 3
   },
   "file_extension": ".py",
   "mimetype": "text/x-python",
   "name": "python",
   "nbconvert_exporter": "python",
   "pygments_lexer": "ipython3",
   "version": "3.7.1"
  }
 },
 "nbformat": 4,
 "nbformat_minor": 2
}
