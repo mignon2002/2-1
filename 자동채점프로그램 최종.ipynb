
import csv

while True:
    try:
        subject = str(input("채점하시는 과목명을 입력해주세요 : ")) + ".csv"  # 생명과학실험
        number = []
        answer = []
        score = []
        with open(subject) as f:
            g = csv.reader(f)
            for raw in g:
                number.append(raw[0])
                answer.append(raw[1])
                score.append(raw[2])
        break
    except FileNotFoundError:
        print("잘못된 과목명을 입력하셨습니다.\n해당 과목명을 잘못 입력하셨거나 해당 과목 채점 파일이 존재하지 않습니다.\n다시 한번 입력해주세요.")

while True:
    try:
        stpaper = str(input("채점하시는 시험지의 파일명을 입력해주세요 : "))+".csv"  # 2604김소현, 2602 허민영
        stanswer = []
        with open(stpaper) as f:
            g = csv.reader(f)
            for raw in g:
                stanswer.append(raw[1])
        break
    except FileNotFoundError:
        print("잘못된 시험지 파일명을 입력하셨습니다.\n해당 파일명을 잘못 입력하셨거나 해당 학생 시험지 파일이 존재하지 않습니다.\n다시 한번 입력해주세요.
new = []
for i in range(0, len(answer)):
    n = answer[i].split('/')
    new.append(n)

점수 = 0
오답 = []
서술형 = []
for j in range(0, len(stanswer)):
    txt = stanswer[j].upper()
    sc = float(score[j])
    cp = True
    for i in range(len(new[j])):
        ans = new[j][i].upper()
        if ans in txt:
            cp = True
        if ans not in txt:
            cp = False
            오답.append(number[j])
            break
        if str(ans) == '서술형':
            n = number[j]
            서술형.append(n)
    if cp:
        점수 += sc

print('확인 사항 :', str(서술형), '번은 서술형 문제입니다. 채점 기준에 따라 직접 채점하시고 점수를 추가해 주세요.')
score1=input('서술형 점수를 입력해주세요 : ')
print('채점 결과 : ', stpaper.split('.')[0], '의', subject.split('.')[0], '과목의 총점은', 점수, '점입니다.')
score2=점수+score1
print('서술형 문제의 점수를 추가하면', score1,'점입니다.')
print('틀린 문제 :', str(오답), '번 입니다')
