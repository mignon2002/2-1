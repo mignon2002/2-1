import csv
s = open("생명과학실험.csv") 
g = csv.reader(s)
answer = [] 
number = []
score = [] 
for raw in g :
    answer.append(raw[1]) 
    number.append(raw[0]) 
    score.append(raw[2]) 
s.close()

f1 = open( "2604김소현.csv") 
g1 = csv.reader(f1)
stanswer = [] 
for raw in g1 :
    stanswer.append(raw[1]) 
f1.close()
scs1 = []


new = [] 
for i in range(0,len(answer)) : 
    n = answer[i].split('/') 
    new.append(n) 
문제수 = int(len(answer))
틀린개수 = 0
점수1 = 0 
오답 = [] 
그림문제 = [] 
for j in range(0, len(stanswer)) : 
    txt = stanswer[j].upper() 
    sc = float(score[j]) 
    cp = True 
    for i in range(len(new[j])) : 
        ans = new[j][i].upper() 
        if ans in txt :
            cp = True
        if ans not in txt : 
            cp = False 
            오답.append(number[j]) 
            틀린개수 += 1
            scs1.append(0)
            break 
        if str(ans) == '그림생략' : 
            n = number[j] 
            그림문제.append(n) 
    if cp : 
        점수1 += sc      
        scs1.append(1)
맞은개수 = 문제수 - 틀린개수

print('채점 결과 : ',f1.name,'의',s.name,'과목의 총점은',점수1,'점입니다')
print('확인 사항 :',str(그림문제),'번은 그림을 그리는 문제이므로 시험지를 확인해주세요')
print('틀린 문제 :',str(오답),'번 입니다')
print('총',문제수, '개 소문제 중', 맞은개수,' 개 맞고,',틀린개수,'개 틀렸습니다')

이걸 5명의 데이터에 대해서 시행 후 csv 파일로 변환

with open('채점결과1.csv','w',newline='') as csvfile:
    채점결과1writer = csv.writer(csvfile)
    채점결과1writer.writerow(scs1)
with open('채점결과2.csv','w',newline='') as csvfile:
    채점결과2writer = csv.writer(csvfile)
    채점결과2writer.writerow(scs2)
with open('채점결과3.csv','w',newline='') as csvfile:
    채점결과3writer = csv.writer(csvfile)
    채점결과3writer.writerow(scs3)
with open('채점결과4.csv','w',newline='') as csvfile:
    채점결과4writer = csv.writer(csvfile)
    채점결과4writer.writerow(scs4)
with open('채점결과5.csv','w',newline='') as csvfile:
    채점결과5writer = csv.writer(csvfile)
    채점결과5writer.writerow(scs5)

import pandas as pd
df = pd.DataFrame(allscore)
df['평균']=df.mean(axis = 1)
df['표준편차']=df.std(axis = 1)
df
평균과 표준편차 계산

import pandas as pd
import matplotlib.pyplot as plt
import numpy as np
import matplotlib.font_manager as fm 

s1 = pd.read_csv("채점결과1.csv", engine='python' )
s2 = pd.read_csv("채점결과2.csv", engine='python')
s3 = pd.read_csv("채점결과3.csv", engine='python')
s4 = pd.read_csv("채점결과4.csv", engine='python')
s5 = pd.read_csv("채점결과5.csv", engine='python')

df = s1
df2 = df.append(s2)
df3 = df2.append(s3)
df4 = df3.append(s4)
df5 = df4.append(s5)
df5.index = ['2604','2602','2601','2603','2605']     # 우리 프로젝트에서 만들어서 쓴 데이터가 2604 김소현이었기 때문에 학번 순서가 맞지 않아 한눈에 보기 불편하였음
df6 = df5.reindex(index = ['2601','2602','2603','2604','2605'])  # 그래서 reindex 하여 순서를 맞춤
df6.loc['정답률'] = df6.sum()   # Total 이라는 행 추가, Total은 각 열의 합임, 즉 다섯명의 학생이 문제를 맞힌 수 
df7 = df6.div(0.05)
df7
정답률 계산

import pandas as pd
import matplotlib.pyplot as plt
import numpy as np
import matplotlib.font_manager as fm 

x_df = range(1,61)
y_df = df7.loc['정답률']

plt.bar(x_df, y_df, color = 'pink')
plt.title('문항별 정답률')
plt.rc('font', family='Malgun Gothic')
plt.figure(figsize = (10,8), dpi = 1000000)

plt.show()
그래프로 나타냄

* 자세한 코드 설명은 2602.md 파일에 올림
